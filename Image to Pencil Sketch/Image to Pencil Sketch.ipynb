{
 "cells": [
  {
   "cell_type": "markdown",
   "id": "studied-central",
   "metadata": {},
   "source": [
    "# Image to Pencil Sketch with Python\n",
    "\n"
   ]
  },
  {
   "cell_type": "code",
   "execution_count": 2,
   "id": "smooth-shade",
   "metadata": {},
   "outputs": [],
   "source": [
    "import cv2"
   ]
  },
  {
   "cell_type": "code",
   "execution_count": 8,
   "id": "electronic-pasta",
   "metadata": {},
   "outputs": [
    {
     "data": {
      "text/plain": [
       "-1"
      ]
     },
     "execution_count": 8,
     "metadata": {},
     "output_type": "execute_result"
    }
   ],
   "source": [
    "image=cv2.imread(\"dhoni.jpg\")\n",
    "cv2.imshow(\"Dhoni\",image)\n",
    "cv2.waitKey(0)"
   ]
  },
  {
   "cell_type": "markdown",
   "id": "conventional-banana",
   "metadata": {},
   "source": [
    "Convert original image to greyscale"
   ]
  },
  {
   "cell_type": "code",
   "execution_count": 4,
   "id": "quality-edinburgh",
   "metadata": {},
   "outputs": [],
   "source": [
    "gray=cv2.cvtColor(image,cv2.COLOR_BGR2GRAY)\n",
    "cv2.imshow(\"New\",gray)\n",
    "cv2.waitKey(0)"
   ]
  },
  {
   "cell_type": "code",
   "execution_count": 5,
   "id": "employed-digit",
   "metadata": {},
   "outputs": [
    {
     "data": {
      "text/plain": [
       "-1"
      ]
     },
     "execution_count": 5,
     "metadata": {},
     "output_type": "execute_result"
    }
   ],
   "source": [
    "invert=255-gray\n",
    "cv2.imshow(\"Invert\",invert)\n",
    "cv2.waitKey(0)"
   ]
  },
  {
   "cell_type": "markdown",
   "id": "cross-exhaust",
   "metadata": {},
   "source": [
    "Now blur the image by using Gaussian Function in OpenCV"
   ]
  },
  {
   "cell_type": "code",
   "execution_count": 6,
   "id": "entire-potter",
   "metadata": {},
   "outputs": [],
   "source": [
    "blur=cv2.GaussianBlur(invert,(21,21),0)"
   ]
  },
  {
   "cell_type": "code",
   "execution_count": 7,
   "id": "sharp-queue",
   "metadata": {},
   "outputs": [
    {
     "data": {
      "text/plain": [
       "-1"
      ]
     },
     "execution_count": 7,
     "metadata": {},
     "output_type": "execute_result"
    }
   ],
   "source": [
    "invertb=255-blur\n",
    "pencil=cv2.divide(gray,invertb,scale=256.0)\n",
    "cv2.imshow(\"Sketch\",pencil)\n",
    "cv2.waitKey(0)"
   ]
  }
 ],
 "metadata": {
  "kernelspec": {
   "display_name": "Python 3",
   "language": "python",
   "name": "python3"
  },
  "language_info": {
   "codemirror_mode": {
    "name": "ipython",
    "version": 3
   },
   "file_extension": ".py",
   "mimetype": "text/x-python",
   "name": "python",
   "nbconvert_exporter": "python",
   "pygments_lexer": "ipython3",
   "version": "3.8.6"
  }
 },
 "nbformat": 4,
 "nbformat_minor": 5
}
